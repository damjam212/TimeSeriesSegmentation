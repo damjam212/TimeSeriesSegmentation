{
 "cells": [
  {
   "cell_type": "code",
   "execution_count": 1,
   "id": "1ad013cb",
   "metadata": {},
   "outputs": [
    {
     "name": "stdout",
     "output_type": "stream",
     "text": [
      "Requirement already satisfied: scipy in c:\\users\\damian\\appdata\\local\\packages\\pythonsoftwarefoundation.python.3.11_qbz5n2kfra8p0\\localcache\\local-packages\\python311\\site-packages (1.11.4)\n",
      "Requirement already satisfied: numpy<1.28.0,>=1.21.6 in c:\\users\\damian\\appdata\\local\\packages\\pythonsoftwarefoundation.python.3.11_qbz5n2kfra8p0\\localcache\\local-packages\\python311\\site-packages (from scipy) (1.26.1)\n"
     ]
    },
    {
     "name": "stderr",
     "output_type": "stream",
     "text": [
      "\n",
      "[notice] A new release of pip is available: 24.1.1 -> 24.1.2\n",
      "[notice] To update, run: python.exe -m pip install --upgrade pip\n"
     ]
    }
   ],
   "source": [
    "!pip install scipy"
   ]
  },
  {
   "cell_type": "code",
   "execution_count": null,
   "id": "75fd6f1e",
   "metadata": {},
   "outputs": [],
   "source": [
    "## imports"
   ]
  },
  {
   "cell_type": "code",
   "execution_count": 60,
   "id": "afc2562b",
   "metadata": {},
   "outputs": [],
   "source": [
    "import pandas as pd\n",
    "from scipy.io import arff\n",
    "import matplotlib.pyplot as plt\n",
    "import numpy as np"
   ]
  },
  {
   "cell_type": "code",
   "execution_count": 46,
   "id": "56b7a3b2",
   "metadata": {},
   "outputs": [],
   "source": [
    "\n",
    "filepath = './datasets/basic_motions/BasicMotions_TEST.arff'\n",
    "def load_dataset_to_dataframe(path):\n",
    "      \"\"\"Draws the keypoint predictions on image.\n",
    "\n",
    "      Args:\n",
    "        image: A numpy array with shape [height, width, channel] representing the\n",
    "          pixel values of the input image.\n",
    "        keypoints_with_scores: A numpy array with shape [1, 1, 17, 3] representing\n",
    "          the keypoint coordinates and scores returned from the MoveNet model.\n",
    "        crop_region: A dictionary that defines the coordinates of the bounding box\n",
    "          of the crop region in normalized coordinates (see the init_crop_region\n",
    "          function below for more detail). If provided, this function will also\n",
    "          draw the bounding box on the image.\n",
    "        output_image_height: An integer indicating the height of the output image.\n",
    "          Note that the image aspect ratio will be the same as the input image.\n",
    "\n",
    "      Returns:\n",
    "        A numpy array with shape [out_height, out_width, channel] representing the\n",
    "        image overlaid with keypoint predictions.\n",
    "      \"\"\"\n",
    "    dataset = arff.loadarff(path)\n",
    "    df = pd.DataFrame(dataset[0])\n",
    "    return df \n",
    "df = load_dataset_to_dataframe(filepath)"
   ]
  },
  {
   "cell_type": "code",
   "execution_count": 29,
   "id": "01cf09ef",
   "metadata": {
    "scrolled": true
   },
   "outputs": [
    {
     "data": {
      "text/html": [
       "<div>\n",
       "<style scoped>\n",
       "    .dataframe tbody tr th:only-of-type {\n",
       "        vertical-align: middle;\n",
       "    }\n",
       "\n",
       "    .dataframe tbody tr th {\n",
       "        vertical-align: top;\n",
       "    }\n",
       "\n",
       "    .dataframe thead th {\n",
       "        text-align: right;\n",
       "    }\n",
       "</style>\n",
       "<table border=\"1\" class=\"dataframe\">\n",
       "  <thead>\n",
       "    <tr style=\"text-align: right;\">\n",
       "      <th></th>\n",
       "      <th>relationalAtt</th>\n",
       "      <th>activity</th>\n",
       "    </tr>\n",
       "  </thead>\n",
       "  <tbody>\n",
       "    <tr>\n",
       "      <th>35</th>\n",
       "      <td>[[-0.040961, -0.040961, 0.338414, -0.471072, -...</td>\n",
       "      <td>b'Badminton'</td>\n",
       "    </tr>\n",
       "    <tr>\n",
       "      <th>36</th>\n",
       "      <td>[[-1.801504, -1.801504, -0.480725, -0.359158, ...</td>\n",
       "      <td>b'Badminton'</td>\n",
       "    </tr>\n",
       "    <tr>\n",
       "      <th>37</th>\n",
       "      <td>[[-0.046089, -0.283051, -0.587748, 1.681765, 1...</td>\n",
       "      <td>b'Badminton'</td>\n",
       "    </tr>\n",
       "    <tr>\n",
       "      <th>38</th>\n",
       "      <td>[[-2.178746, -2.178746, -0.448056, 0.038006, 1...</td>\n",
       "      <td>b'Badminton'</td>\n",
       "    </tr>\n",
       "    <tr>\n",
       "      <th>39</th>\n",
       "      <td>[[0.901645, 0.901645, -0.054697, 0.08205, -0.1...</td>\n",
       "      <td>b'Badminton'</td>\n",
       "    </tr>\n",
       "  </tbody>\n",
       "</table>\n",
       "</div>"
      ],
      "text/plain": [
       "                                        relationalAtt      activity\n",
       "35  [[-0.040961, -0.040961, 0.338414, -0.471072, -...  b'Badminton'\n",
       "36  [[-1.801504, -1.801504, -0.480725, -0.359158, ...  b'Badminton'\n",
       "37  [[-0.046089, -0.283051, -0.587748, 1.681765, 1...  b'Badminton'\n",
       "38  [[-2.178746, -2.178746, -0.448056, 0.038006, 1...  b'Badminton'\n",
       "39  [[0.901645, 0.901645, -0.054697, 0.08205, -0.1...  b'Badminton'"
      ]
     },
     "execution_count": 29,
     "metadata": {},
     "output_type": "execute_result"
    }
   ],
   "source": [
    "df = pd.DataFrame(bacis_motions[0])\n",
    "df.tail()"
   ]
  },
  {
   "cell_type": "code",
   "execution_count": 48,
   "id": "d8a88fb2",
   "metadata": {},
   "outputs": [
    {
     "data": {
      "text/plain": [
       "6"
      ]
     },
     "execution_count": 48,
     "metadata": {},
     "output_type": "execute_result"
    }
   ],
   "source": [
    "len(df['relationalAtt'].iloc[0]) \n",
    "# dane są 6 wymiarowe ponieważ mam dwe zmienne 3 wymiarowe\n",
    "# najpierw x y z dla akcelerometra\n",
    "# potem x y z żyroskopu"
   ]
  },
  {
   "cell_type": "code",
   "execution_count": 50,
   "id": "b8da31a9",
   "metadata": {},
   "outputs": [
    {
     "data": {
      "text/plain": [
       "100"
      ]
     },
     "execution_count": 50,
     "metadata": {},
     "output_type": "execute_result"
    }
   ],
   "source": [
    "len(df['relationalAtt'].iloc[0][0])"
   ]
  },
  {
   "cell_type": "code",
   "execution_count": 43,
   "id": "d4a8085a",
   "metadata": {
    "scrolled": true
   },
   "outputs": [
    {
     "name": "stdout",
     "output_type": "stream",
     "text": [
      "(-0.740653, -0.740653, 10.208449, 2.867009, -0.194301, -0.194301, -0.249618, 0.516079, -0.255552, -0.319864, 0.353982, 0.353982, 0.106101, 0.106101, 0.22727, 0.22727, -0.119723, -0.236241, -0.237297, -0.185024, -5.8e-05, -0.279022, -0.120311, -0.146232, -0.127457, -0.130117, -0.052044, -0.280422, -0.296785, -0.135509, -0.164468, -0.22289, -0.016718, -0.225213, -0.3807, -0.266297, -0.190389, -0.170008, -0.020573, -0.15485, -0.106508, -0.241089, -0.21136, -0.21136, -0.235142, -0.297559, -0.159937, -0.019443, -0.207353, -0.096013, -0.024333, -0.136068, -0.16463, -0.252869, -0.029622, -0.153937, -0.158699, -0.036343, -0.058921, -0.172196, -0.153654, -0.159779, -0.275249, -0.064747, -0.045516, -0.20857, -0.257963, -0.257963, -0.127492, -0.371646, -0.371646, -0.420923, -0.106432, -0.106432, -0.192068, -0.192068, -0.096508, -0.124875, 0.011774, -0.122395, -0.278119, 0.031465, -0.095036, -0.162697, -0.270526, -0.135934, -0.097062, -0.259696, -0.195385, -0.232158, -0.139325, -0.188627, -0.188627, -0.244708, -0.160692, -0.09448, -0.09448, -0.329182, -0.287192, -0.287192)\n"
     ]
    }
   ],
   "source": [
    "print(df['relationalAtt'].iloc[0][0])"
   ]
  },
  {
   "cell_type": "code",
   "execution_count": 63,
   "id": "47d8bd8c",
   "metadata": {},
   "outputs": [
    {
     "name": "stdout",
     "output_type": "stream",
     "text": [
      "<class 'numpy.ndarray'>\n"
     ]
    },
    {
     "data": {
      "text/plain": [
       "[<matplotlib.lines.Line2D at 0x20099103610>]"
      ]
     },
     "execution_count": 63,
     "metadata": {},
     "output_type": "execute_result"
    },
    {
     "data": {
      "image/png": "[encoded data removed]",
      "text/plain": [
       "<Figure size 432x288 with 1 Axes>"
      ]
     },
     "metadata": {
      "needs_background": "light"
     },
     "output_type": "display_data"
    }
   ],
   "source": [
    "flattened = np.hstack([df['relationalAtt'].iloc[0][0][field] for field in df['relationalAtt'].iloc[0][0].dtype.names])\n",
    "print(type(flattened))\n",
    "plt.plot(flattened)"
   ]
  },
  {
   "cell_type": "code",
   "execution_count": 64,
   "id": "231507ee",
   "metadata": {},
   "outputs": [
    {
     "data": {
      "text/plain": [
       "[<matplotlib.lines.Line2D at 0x200990f8350>]"
      ]
     },
     "execution_count": 64,
     "metadata": {},
     "output_type": "execute_result"
    },
    {
     "data": {
      "image/png": "[encoded data removed]",
      "text/plain": [
       "<Figure size 432x288 with 1 Axes>"
      ]
     },
     "metadata": {
      "needs_background": "light"
     },
     "output_type": "display_data"
    }
   ],
   "source": [
    "flattened = np.hstack([df['relationalAtt'].iloc[39][0][field] for field in df['relationalAtt'].iloc[39][0].dtype.names])\n",
    "plt.plot(flattened)"
   ]
  },
  {
   "cell_type": "code",
   "execution_count": null,
   "id": "f8655a8c",
   "metadata": {},
   "outputs": [],
   "source": [
    "def stack_data_random(df):\n",
    "    "
   ]
  }
 ],
 "metadata": {
  "kernelspec": {
   "display_name": "Python 3",
   "language": "python",
   "name": "python3"
  },
  "language_info": {
   "codemirror_mode": {
    "name": "ipython",
    "version": 3
   },
   "file_extension": ".py",
   "mimetype": "text/x-python",
   "name": "python",
   "nbconvert_exporter": "python",
   "pygments_lexer": "ipython3",
   "version": "3.11.4"
  }
 },
 "nbformat": 4,
 "nbformat_minor": 5
}
