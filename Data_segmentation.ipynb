{
 "cells": [
  {
   "cell_type": "code",
   "execution_count": 2,
   "id": "181b9c97",
   "metadata": {},
   "outputs": [
    {
     "name": "stdout",
     "output_type": "stream",
     "text": [
      "Requirement already satisfied: scipy in c:\\users\\damian\\appdata\\local\\packages\\pythonsoftwarefoundation.python.3.11_qbz5n2kfra8p0\\localcache\\local-packages\\python311\\site-packages (1.11.4)\n",
      "Requirement already satisfied: numpy<1.28.0,>=1.21.6 in c:\\users\\damian\\appdata\\local\\packages\\pythonsoftwarefoundation.python.3.11_qbz5n2kfra8p0\\localcache\\local-packages\\python311\\site-packages (from scipy) (1.26.1)\n"
     ]
    },
    {
     "name": "stderr",
     "output_type": "stream",
     "text": [
      "\n",
      "[notice] A new release of pip is available: 24.1.1 -> 24.1.2\n",
      "[notice] To update, run: python.exe -m pip install --upgrade pip\n"
     ]
    }
   ],
   "source": [
    "!pip install scipy"
   ]
  },
  {
   "cell_type": "code",
   "execution_count": 3,
   "id": "c2a9288c",
   "metadata": {},
   "outputs": [],
   "source": [
    "## imports"
   ]
  },
  {
   "cell_type": "code",
   "execution_count": 4,
   "id": "0bab6546",
   "metadata": {},
   "outputs": [],
   "source": [
    "import pandas as pd\n",
    "from scipy.io import arff\n",
    "import matplotlib.pyplot as plt\n",
    "import numpy as np"
   ]
  },
  {
   "cell_type": "code",
   "execution_count": 34,
   "id": "c252428b",
   "metadata": {},
   "outputs": [],
   "source": [
    "\n",
    "filepath = './datasets/basic_motions/BasicMotions_TRAIN.arff'\n",
    "def load_dataset_to_dataframe(path):\n",
    "    \"\"\"Load data that is stored within the path\n",
    "\n",
    "    Args:\n",
    "        path: string with path containing data\n",
    "    Returns:\n",
    "        A pandas dataframe with only data inside\n",
    "    \"\"\"\n",
    "    dataset = arff.loadarff(path)\n",
    "    df = pd.DataFrame(dataset[0])\n",
    "    return df \n",
    "df = load_dataset_to_dataframe(filepath)"
   ]
  },
  {
   "cell_type": "code",
   "execution_count": 103,
   "id": "2c88680a",
   "metadata": {},
   "outputs": [
    {
     "name": "stdout",
     "output_type": "stream",
     "text": [
      "6\n",
      "                                                   0\n",
      "0  [0.079106, 0.079106, -0.903497, 1.116125, 1.63...\n",
      "1  [0.394032, 0.394032, -3.666397, -0.656101, 1.4...\n",
      "2  [0.551444, 0.551444, -0.282844, 0.333118, 0.39...\n",
      "3  [0.351565, 0.351565, -0.095881, 1.624657, 1.18...\n",
      "4  [0.02397, 0.02397, -0.319605, -0.569962, -0.27...\n",
      "5  [0.633883, 0.633883, 0.972131, 1.209171, 1.739...\n"
     ]
    }
   ],
   "source": [
    "#print(df.iloc[0,0].shape[0])\n",
    "\n",
    "def stack_time_series(df):\n",
    "    \"\"\"This function creates new dataframe without segmentation and classification\n",
    "\n",
    "    Args:\n",
    "        df: segmented dataframe\n",
    "    Returns:\n",
    "        A pandas dataframe with shape [dimensions of input data,original count of time series]\n",
    "    \"\"\"\n",
    "    dimensionality = df.iloc[0,0].shape[0] # assumption that data dimensionality is the number of rows of first element in dataframe\n",
    "    # also the first column is expected to store data (second stores classification)\n",
    "    \n",
    "    # creating new data frame \n",
    "    stacked = pd.DataFrame(index=np.arange(dimensionality), columns=np.arange(1))\n",
    "    \n",
    "    # filling it with empty numpy arrays\n",
    "    for i in range(dimensionality):\n",
    "        stacked.iloc[i, 0] = np.array([])\n",
    "    # filling the dataframe with data    \n",
    "    for index, row in df.iterrows():\n",
    "        i = 0\n",
    "        for r in row[0]:\n",
    "             stacked.iloc[i,0] = np.concatenate((stacked.iloc[i,0],np.array(r.tolist())))\n",
    "             i += 1\n",
    "    return stacked\n",
    "   \n",
    "stacked = stack_time_series(df)\n",
    "#print(df.iloc[0,0][1])\n",
    "print(stacked)"
   ]
  },
  {
   "cell_type": "code",
   "execution_count": 88,
   "id": "76606adb",
   "metadata": {},
   "outputs": [
    {
     "data": {
      "text/plain": [
       "6"
      ]
     },
     "execution_count": 88,
     "metadata": {},
     "output_type": "execute_result"
    }
   ],
   "source": [
    "len(df['relationalAtt'].iloc[0]) \n",
    "# dane są 6 wymiarowe ponieważ mam dwe zmienne 3 wymiarowe\n",
    "# najpierw x y z dla akcelerometra\n",
    "# potem x y z żyroskopu"
   ]
  },
  {
   "cell_type": "code",
   "execution_count": 89,
   "id": "25219b3b",
   "metadata": {},
   "outputs": [
    {
     "data": {
      "text/plain": [
       "100"
      ]
     },
     "execution_count": 89,
     "metadata": {},
     "output_type": "execute_result"
    }
   ],
   "source": [
    "len(df['relationalAtt'].iloc[0][0])"
   ]
  },
  {
   "cell_type": "code",
   "execution_count": 89,
   "id": "265d0025",
   "metadata": {
    "scrolled": true
   },
   "outputs": [
    {
     "name": "stdout",
     "output_type": "stream",
     "text": [
      "(0.756509, 0.756509, -9.21697, -5.977115, -3.711996, -3.711996, 0.731686, 1.070128, 0.582956, 0.65684, 0.738943, 0.738943, 0.623878, 0.623878, 0.342349, 0.342349, 0.487381, 0.480404, 0.430157, 0.447453, 0.249743, 0.2423, 0.450441, 0.309654, 0.083404, 0.292108, 0.311343, 0.543993, 0.698218, 0.475227, 0.353672, 0.131767, 0.076935, 0.385646, 0.344838, 0.21288, 0.008026, -0.158244, 0.035338, 0.508889, 0.621322, 0.319636, -0.085015, -0.085015, -0.024743, 0.275337, 0.335378, 0.237319, -0.002747, -0.007837, -0.011572, 0.101381, 0.088272, 0.123691, 0.001191, 0.015601, 0.059553, 0.090908, 0.242394, 0.099569, 0.045989, 0.091239, 0.021562, 0.097407, 0.019493, 0.06763, 0.024291, 0.024291, 0.004449, 0.200601, 0.200601, 0.20053, -0.100083, -0.100083, 0.005299, 0.005299, -0.138594, 0.053983, 0.304071, 0.200452, 0.041175, -0.245158, -0.164275, -0.108489, -0.140033, 0.15596, -0.102305, -0.049516, 0.136662, 0.133463, 0.069999, 0.167304, 0.167304, 0.138224, 0.141726, 0.090568, 0.090568, -0.046058, 0.098725, 0.098725)\n"
     ]
    }
   ],
   "source": [
    "print(df['relationalAtt'].iloc[0][1])"
   ]
  },
  {
   "cell_type": "code",
   "execution_count": 117,
   "id": "475959a5",
   "metadata": {},
   "outputs": [
    {
     "data": {
      "text/plain": [
       "[<matplotlib.lines.Line2D at 0x200997ff510>]"
      ]
     },
     "execution_count": 117,
     "metadata": {},
     "output_type": "execute_result"
    },
    {
     "data": {
      "image/png": "[encoded data removed]",
      "text/plain": [
       "<Figure size 432x288 with 1 Axes>"
      ]
     },
     "metadata": {
      "needs_background": "light"
     },
     "output_type": "display_data"
    }
   ],
   "source": [
    "flattened = np.hstack([df['relationalAtt'].iloc[21][0][field] for field in df['relationalAtt'].iloc[21][0].dtype.names])\n",
    "plt.plot(flattened)"
   ]
  },
  {
   "cell_type": "code",
   "execution_count": 114,
   "id": "36becbc8",
   "metadata": {},
   "outputs": [
    {
     "name": "stdout",
     "output_type": "stream",
     "text": [
      "(6,)\n"
     ]
    }
   ],
   "source": [
    "def stack_data(df):\n",
    "    # Zakładając, że każdy wiersz w df['relationalAtt'] ma 6 wymiarów\n",
    "    num_dimensions = 6\n",
    "    \n",
    "    # Tworzymy listę do przechowywania danych dla nowego DataFrame\n",
    "    new_data = [[] for _ in range(num_dimensions)]\n",
    "    \n",
    "    # Iterujemy przez wszystkie wiersze w df['relationalAtt']\n",
    "    for row in df['relationalAtt']:\n",
    "        # Sprawdzamy, czy długość row jest zgodna z oczekiwaniami\n",
    "        if len(row) != num_dimensions:\n",
    "            raise ValueError(f\"Oczekiwana długość wiersza: {num_dimensions}, uzyskana: {len(row)}\")\n",
    "        \n",
    "        # Dodajemy każdy wymiar do odpowiedniego miejsca w new_data\n",
    "        for i in range(num_dimensions):\n",
    "            new_data[i].append(row[i])\n",
    "    \n",
    "    # Tworzymy nowy DataFrame\n",
    "    new_df = pd.DataFrame(new_data).transpose()  # transponujemy, aby każdy wiersz miał 6 wymiarów\n",
    "    new_df.columns = [f'dimension_{i+1}' for i in range(num_dimensions)]\n",
    "    dfs = {}\n",
    "\n",
    "#     for column in new_df.columns:\n",
    "#         dfs[column] = new_df[column].apply(pd.Series)\n",
    "    \n",
    "    return new_df\n",
    "\n",
    "# Scalanie wierszy\n",
    "#result_df = stack_data(df)\n",
    "print(df['relationalAtt'].iloc[0].shape)"
   ]
  },
  {
   "cell_type": "code",
   "execution_count": 110,
   "id": "007aa7e0",
   "metadata": {},
   "outputs": [
    {
     "data": {
      "text/plain": [
       "(40, 6)"
      ]
     },
     "execution_count": 110,
     "metadata": {},
     "output_type": "execute_result"
    }
   ],
   "source": [
    "result_df.shape\n"
   ]
  },
  {
   "cell_type": "code",
   "execution_count": 99,
   "id": "0a850c90",
   "metadata": {},
   "outputs": [
    {
     "ename": "TypeError",
     "evalue": "Cannot cast array data from dtype([('att0', '<f8'), ('att1', '<f8'), ('att2', '<f8'), ('att3', '<f8'), ('att4', '<f8'), ('att5', '<f8'), ('att6', '<f8'), ('att7', '<f8'), ('att8', '<f8'), ('att9', '<f8'), ('att10', '<f8'), ('att11', '<f8'), ('att12', '<f8'), ('att13', '<f8'), ('att14', '<f8'), ('att15', '<f8'), ('att16', '<f8'), ('att17', '<f8'), ('att18', '<f8'), ('att19', '<f8'), ('att20', '<f8'), ('att21', '<f8'), ('att22', '<f8'), ('att23', '<f8'), ('att24', '<f8'), ('att25', '<f8'), ('att26', '<f8'), ('att27', '<f8'), ('att28', '<f8'), ('att29', '<f8'), ('att30', '<f8'), ('att31', '<f8'), ('att32', '<f8'), ('att33', '<f8'), ('att34', '<f8'), ('att35', '<f8'), ('att36', '<f8'), ('att37', '<f8'), ('att38', '<f8'), ('att39', '<f8'), ('att40', '<f8'), ('att41', '<f8'), ('att42', '<f8'), ('att43', '<f8'), ('att44', '<f8'), ('att45', '<f8'), ('att46', '<f8'), ('att47', '<f8'), ('att48', '<f8'), ('att49', '<f8'), ('att50', '<f8'), ('att51', '<f8'), ('att52', '<f8'), ('att53', '<f8'), ('att54', '<f8'), ('att55', '<f8'), ('att56', '<f8'), ('att57', '<f8'), ('att58', '<f8'), ('att59', '<f8'), ('att60', '<f8'), ('att61', '<f8'), ('att62', '<f8'), ('att63', '<f8'), ('att64', '<f8'), ('att65', '<f8'), ('att66', '<f8'), ('att67', '<f8'), ('att68', '<f8'), ('att69', '<f8'), ('att70', '<f8'), ('att71', '<f8'), ('att72', '<f8'), ('att73', '<f8'), ('att74', '<f8'), ('att75', '<f8'), ('att76', '<f8'), ('att77', '<f8'), ('att78', '<f8'), ('att79', '<f8'), ('att80', '<f8'), ('att81', '<f8'), ('att82', '<f8'), ('att83', '<f8'), ('att84', '<f8'), ('att85', '<f8'), ('att86', '<f8'), ('att87', '<f8'), ('att88', '<f8'), ('att89', '<f8'), ('att90', '<f8'), ('att91', '<f8'), ('att92', '<f8'), ('att93', '<f8'), ('att94', '<f8'), ('att95', '<f8'), ('att96', '<f8'), ('att97', '<f8'), ('att98', '<f8'), ('att99', '<f8')]) to dtype('float64').",
     "output_type": "error",
     "traceback": [
      "\u001b[1;31m---------------------------------------------------------------------------\u001b[0m",
      "\u001b[1;31mTypeError\u001b[0m                                 Traceback (most recent call last)",
      "\u001b[1;32m<ipython-input-99-4c7e477776c7>\u001b[0m in \u001b[0;36m<cell line: 0>\u001b[1;34m()\u001b[0m\n\u001b[0;32m      1\u001b[0m \u001b[0marray\u001b[0m \u001b[1;33m=\u001b[0m \u001b[0mnp\u001b[0m\u001b[1;33m.\u001b[0m\u001b[0marray\u001b[0m\u001b[1;33m(\u001b[0m\u001b[0mresult_df\u001b[0m\u001b[1;33m.\u001b[0m\u001b[0miloc\u001b[0m\u001b[1;33m[\u001b[0m\u001b[1;36m0\u001b[0m\u001b[1;33m]\u001b[0m\u001b[1;33m)\u001b[0m\u001b[1;33m\u001b[0m\u001b[1;33m\u001b[0m\u001b[0m\n\u001b[1;32m----> 2\u001b[1;33m \u001b[0mplt\u001b[0m\u001b[1;33m.\u001b[0m\u001b[0mplot\u001b[0m\u001b[1;33m(\u001b[0m\u001b[0marray\u001b[0m\u001b[1;33m)\u001b[0m\u001b[1;33m\u001b[0m\u001b[1;33m\u001b[0m\u001b[0m\n\u001b[0m",
      "\u001b[1;32m~\\AppData\\Local\\Packages\\PythonSoftwareFoundation.Python.3.11_qbz5n2kfra8p0\\LocalCache\\local-packages\\Python311\\site-packages\\matplotlib\\pyplot.py\u001b[0m in \u001b[0;36mplot\u001b[1;34m(scalex, scaley, data, *args, **kwargs)\u001b[0m\n\u001b[0;32m   3576\u001b[0m     \u001b[1;33m**\u001b[0m\u001b[0mkwargs\u001b[0m\u001b[1;33m,\u001b[0m\u001b[1;33m\u001b[0m\u001b[1;33m\u001b[0m\u001b[0m\n\u001b[0;32m   3577\u001b[0m ) -> list[Line2D]:\n\u001b[1;32m-> 3578\u001b[1;33m     return gca().plot(\n\u001b[0m\u001b[0;32m   3579\u001b[0m         \u001b[1;33m*\u001b[0m\u001b[0margs\u001b[0m\u001b[1;33m,\u001b[0m\u001b[1;33m\u001b[0m\u001b[1;33m\u001b[0m\u001b[0m\n\u001b[0;32m   3580\u001b[0m         \u001b[0mscalex\u001b[0m\u001b[1;33m=\u001b[0m\u001b[0mscalex\u001b[0m\u001b[1;33m,\u001b[0m\u001b[1;33m\u001b[0m\u001b[1;33m\u001b[0m\u001b[0m\n",
      "\u001b[1;32m~\\AppData\\Local\\Packages\\PythonSoftwareFoundation.Python.3.11_qbz5n2kfra8p0\\LocalCache\\local-packages\\Python311\\site-packages\\matplotlib\\axes\\_axes.py\u001b[0m in \u001b[0;36mplot\u001b[1;34m(self, scalex, scaley, data, *args, **kwargs)\u001b[0m\n\u001b[0;32m   1721\u001b[0m         \u001b[0mlines\u001b[0m \u001b[1;33m=\u001b[0m \u001b[1;33m[\u001b[0m\u001b[1;33m*\u001b[0m\u001b[0mself\u001b[0m\u001b[1;33m.\u001b[0m\u001b[0m_get_lines\u001b[0m\u001b[1;33m(\u001b[0m\u001b[0mself\u001b[0m\u001b[1;33m,\u001b[0m \u001b[1;33m*\u001b[0m\u001b[0margs\u001b[0m\u001b[1;33m,\u001b[0m \u001b[0mdata\u001b[0m\u001b[1;33m=\u001b[0m\u001b[0mdata\u001b[0m\u001b[1;33m,\u001b[0m \u001b[1;33m**\u001b[0m\u001b[0mkwargs\u001b[0m\u001b[1;33m)\u001b[0m\u001b[1;33m]\u001b[0m\u001b[1;33m\u001b[0m\u001b[1;33m\u001b[0m\u001b[0m\n\u001b[0;32m   1722\u001b[0m         \u001b[1;32mfor\u001b[0m \u001b[0mline\u001b[0m \u001b[1;32min\u001b[0m \u001b[0mlines\u001b[0m\u001b[1;33m:\u001b[0m\u001b[1;33m\u001b[0m\u001b[1;33m\u001b[0m\u001b[0m\n\u001b[1;32m-> 1723\u001b[1;33m             \u001b[0mself\u001b[0m\u001b[1;33m.\u001b[0m\u001b[0madd_line\u001b[0m\u001b[1;33m(\u001b[0m\u001b[0mline\u001b[0m\u001b[1;33m)\u001b[0m\u001b[1;33m\u001b[0m\u001b[1;33m\u001b[0m\u001b[0m\n\u001b[0m\u001b[0;32m   1724\u001b[0m         \u001b[1;32mif\u001b[0m \u001b[0mscalex\u001b[0m\u001b[1;33m:\u001b[0m\u001b[1;33m\u001b[0m\u001b[1;33m\u001b[0m\u001b[0m\n\u001b[0;32m   1725\u001b[0m             \u001b[0mself\u001b[0m\u001b[1;33m.\u001b[0m\u001b[0m_request_autoscale_view\u001b[0m\u001b[1;33m(\u001b[0m\u001b[1;34m\"x\"\u001b[0m\u001b[1;33m)\u001b[0m\u001b[1;33m\u001b[0m\u001b[1;33m\u001b[0m\u001b[0m\n",
      "\u001b[1;32m~\\AppData\\Local\\Packages\\PythonSoftwareFoundation.Python.3.11_qbz5n2kfra8p0\\LocalCache\\local-packages\\Python311\\site-packages\\matplotlib\\axes\\_base.py\u001b[0m in \u001b[0;36madd_line\u001b[1;34m(self, line)\u001b[0m\n\u001b[0;32m   2307\u001b[0m             \u001b[0mline\u001b[0m\u001b[1;33m.\u001b[0m\u001b[0mset_clip_path\u001b[0m\u001b[1;33m(\u001b[0m\u001b[0mself\u001b[0m\u001b[1;33m.\u001b[0m\u001b[0mpatch\u001b[0m\u001b[1;33m)\u001b[0m\u001b[1;33m\u001b[0m\u001b[1;33m\u001b[0m\u001b[0m\n\u001b[0;32m   2308\u001b[0m \u001b[1;33m\u001b[0m\u001b[0m\n\u001b[1;32m-> 2309\u001b[1;33m         \u001b[0mself\u001b[0m\u001b[1;33m.\u001b[0m\u001b[0m_update_line_limits\u001b[0m\u001b[1;33m(\u001b[0m\u001b[0mline\u001b[0m\u001b[1;33m)\u001b[0m\u001b[1;33m\u001b[0m\u001b[1;33m\u001b[0m\u001b[0m\n\u001b[0m\u001b[0;32m   2310\u001b[0m         \u001b[1;32mif\u001b[0m \u001b[1;32mnot\u001b[0m \u001b[0mline\u001b[0m\u001b[1;33m.\u001b[0m\u001b[0mget_label\u001b[0m\u001b[1;33m(\u001b[0m\u001b[1;33m)\u001b[0m\u001b[1;33m:\u001b[0m\u001b[1;33m\u001b[0m\u001b[1;33m\u001b[0m\u001b[0m\n\u001b[0;32m   2311\u001b[0m             \u001b[0mline\u001b[0m\u001b[1;33m.\u001b[0m\u001b[0mset_label\u001b[0m\u001b[1;33m(\u001b[0m\u001b[1;34mf'_child{len(self._children)}'\u001b[0m\u001b[1;33m)\u001b[0m\u001b[1;33m\u001b[0m\u001b[1;33m\u001b[0m\u001b[0m\n",
      "\u001b[1;32m~\\AppData\\Local\\Packages\\PythonSoftwareFoundation.Python.3.11_qbz5n2kfra8p0\\LocalCache\\local-packages\\Python311\\site-packages\\matplotlib\\axes\\_base.py\u001b[0m in \u001b[0;36m_update_line_limits\u001b[1;34m(self, line)\u001b[0m\n\u001b[0;32m   2330\u001b[0m         \u001b[0mFigures\u001b[0m \u001b[0mout\u001b[0m \u001b[0mthe\u001b[0m \u001b[0mdata\u001b[0m \u001b[0mlimit\u001b[0m \u001b[0mof\u001b[0m \u001b[0mthe\u001b[0m \u001b[0mgiven\u001b[0m \u001b[0mline\u001b[0m\u001b[1;33m,\u001b[0m \u001b[0mupdating\u001b[0m \u001b[0mself\u001b[0m\u001b[1;33m.\u001b[0m\u001b[0mdataLim\u001b[0m\u001b[1;33m.\u001b[0m\u001b[1;33m\u001b[0m\u001b[1;33m\u001b[0m\u001b[0m\n\u001b[0;32m   2331\u001b[0m         \"\"\"\n\u001b[1;32m-> 2332\u001b[1;33m         \u001b[0mpath\u001b[0m \u001b[1;33m=\u001b[0m \u001b[0mline\u001b[0m\u001b[1;33m.\u001b[0m\u001b[0mget_path\u001b[0m\u001b[1;33m(\u001b[0m\u001b[1;33m)\u001b[0m\u001b[1;33m\u001b[0m\u001b[1;33m\u001b[0m\u001b[0m\n\u001b[0m\u001b[0;32m   2333\u001b[0m         \u001b[1;32mif\u001b[0m \u001b[0mpath\u001b[0m\u001b[1;33m.\u001b[0m\u001b[0mvertices\u001b[0m\u001b[1;33m.\u001b[0m\u001b[0msize\u001b[0m \u001b[1;33m==\u001b[0m \u001b[1;36m0\u001b[0m\u001b[1;33m:\u001b[0m\u001b[1;33m\u001b[0m\u001b[1;33m\u001b[0m\u001b[0m\n\u001b[0;32m   2334\u001b[0m             \u001b[1;32mreturn\u001b[0m\u001b[1;33m\u001b[0m\u001b[1;33m\u001b[0m\u001b[0m\n",
      "\u001b[1;32m~\\AppData\\Local\\Packages\\PythonSoftwareFoundation.Python.3.11_qbz5n2kfra8p0\\LocalCache\\local-packages\\Python311\\site-packages\\matplotlib\\lines.py\u001b[0m in \u001b[0;36mget_path\u001b[1;34m(self)\u001b[0m\n\u001b[0;32m   1030\u001b[0m         \u001b[1;34m\"\"\"Return the `~matplotlib.path.Path` associated with this line.\"\"\"\u001b[0m\u001b[1;33m\u001b[0m\u001b[1;33m\u001b[0m\u001b[0m\n\u001b[0;32m   1031\u001b[0m         \u001b[1;32mif\u001b[0m \u001b[0mself\u001b[0m\u001b[1;33m.\u001b[0m\u001b[0m_invalidy\u001b[0m \u001b[1;32mor\u001b[0m \u001b[0mself\u001b[0m\u001b[1;33m.\u001b[0m\u001b[0m_invalidx\u001b[0m\u001b[1;33m:\u001b[0m\u001b[1;33m\u001b[0m\u001b[1;33m\u001b[0m\u001b[0m\n\u001b[1;32m-> 1032\u001b[1;33m             \u001b[0mself\u001b[0m\u001b[1;33m.\u001b[0m\u001b[0mrecache\u001b[0m\u001b[1;33m(\u001b[0m\u001b[1;33m)\u001b[0m\u001b[1;33m\u001b[0m\u001b[1;33m\u001b[0m\u001b[0m\n\u001b[0m\u001b[0;32m   1033\u001b[0m         \u001b[1;32mreturn\u001b[0m \u001b[0mself\u001b[0m\u001b[1;33m.\u001b[0m\u001b[0m_path\u001b[0m\u001b[1;33m\u001b[0m\u001b[1;33m\u001b[0m\u001b[0m\n\u001b[0;32m   1034\u001b[0m \u001b[1;33m\u001b[0m\u001b[0m\n",
      "\u001b[1;32m~\\AppData\\Local\\Packages\\PythonSoftwareFoundation.Python.3.11_qbz5n2kfra8p0\\LocalCache\\local-packages\\Python311\\site-packages\\matplotlib\\lines.py\u001b[0m in \u001b[0;36mrecache\u001b[1;34m(self, always)\u001b[0m\n\u001b[0;32m    672\u001b[0m         \u001b[1;32mif\u001b[0m \u001b[0malways\u001b[0m \u001b[1;32mor\u001b[0m \u001b[0mself\u001b[0m\u001b[1;33m.\u001b[0m\u001b[0m_invalidy\u001b[0m\u001b[1;33m:\u001b[0m\u001b[1;33m\u001b[0m\u001b[1;33m\u001b[0m\u001b[0m\n\u001b[0;32m    673\u001b[0m             \u001b[0myconv\u001b[0m \u001b[1;33m=\u001b[0m \u001b[0mself\u001b[0m\u001b[1;33m.\u001b[0m\u001b[0mconvert_yunits\u001b[0m\u001b[1;33m(\u001b[0m\u001b[0mself\u001b[0m\u001b[1;33m.\u001b[0m\u001b[0m_yorig\u001b[0m\u001b[1;33m)\u001b[0m\u001b[1;33m\u001b[0m\u001b[1;33m\u001b[0m\u001b[0m\n\u001b[1;32m--> 674\u001b[1;33m             \u001b[0my\u001b[0m \u001b[1;33m=\u001b[0m \u001b[0m_to_unmasked_float_array\u001b[0m\u001b[1;33m(\u001b[0m\u001b[0myconv\u001b[0m\u001b[1;33m)\u001b[0m\u001b[1;33m.\u001b[0m\u001b[0mravel\u001b[0m\u001b[1;33m(\u001b[0m\u001b[1;33m)\u001b[0m\u001b[1;33m\u001b[0m\u001b[1;33m\u001b[0m\u001b[0m\n\u001b[0m\u001b[0;32m    675\u001b[0m         \u001b[1;32melse\u001b[0m\u001b[1;33m:\u001b[0m\u001b[1;33m\u001b[0m\u001b[1;33m\u001b[0m\u001b[0m\n\u001b[0;32m    676\u001b[0m             \u001b[0my\u001b[0m \u001b[1;33m=\u001b[0m \u001b[0mself\u001b[0m\u001b[1;33m.\u001b[0m\u001b[0m_y\u001b[0m\u001b[1;33m\u001b[0m\u001b[1;33m\u001b[0m\u001b[0m\n",
      "\u001b[1;32m~\\AppData\\Local\\Packages\\PythonSoftwareFoundation.Python.3.11_qbz5n2kfra8p0\\LocalCache\\local-packages\\Python311\\site-packages\\matplotlib\\cbook.py\u001b[0m in \u001b[0;36m_to_unmasked_float_array\u001b[1;34m(x)\u001b[0m\n\u001b[0;32m   1343\u001b[0m         \u001b[1;32mreturn\u001b[0m \u001b[0mnp\u001b[0m\u001b[1;33m.\u001b[0m\u001b[0mma\u001b[0m\u001b[1;33m.\u001b[0m\u001b[0masarray\u001b[0m\u001b[1;33m(\u001b[0m\u001b[0mx\u001b[0m\u001b[1;33m,\u001b[0m \u001b[0mfloat\u001b[0m\u001b[1;33m)\u001b[0m\u001b[1;33m.\u001b[0m\u001b[0mfilled\u001b[0m\u001b[1;33m(\u001b[0m\u001b[0mnp\u001b[0m\u001b[1;33m.\u001b[0m\u001b[0mnan\u001b[0m\u001b[1;33m)\u001b[0m\u001b[1;33m\u001b[0m\u001b[1;33m\u001b[0m\u001b[0m\n\u001b[0;32m   1344\u001b[0m     \u001b[1;32melse\u001b[0m\u001b[1;33m:\u001b[0m\u001b[1;33m\u001b[0m\u001b[1;33m\u001b[0m\u001b[0m\n\u001b[1;32m-> 1345\u001b[1;33m         \u001b[1;32mreturn\u001b[0m \u001b[0mnp\u001b[0m\u001b[1;33m.\u001b[0m\u001b[0masarray\u001b[0m\u001b[1;33m(\u001b[0m\u001b[0mx\u001b[0m\u001b[1;33m,\u001b[0m \u001b[0mfloat\u001b[0m\u001b[1;33m)\u001b[0m\u001b[1;33m\u001b[0m\u001b[1;33m\u001b[0m\u001b[0m\n\u001b[0m\u001b[0;32m   1346\u001b[0m \u001b[1;33m\u001b[0m\u001b[0m\n\u001b[0;32m   1347\u001b[0m \u001b[1;33m\u001b[0m\u001b[0m\n",
      "\u001b[1;31mTypeError\u001b[0m: Cannot cast array data from dtype([('att0', '<f8'), ('att1', '<f8'), ('att2', '<f8'), ('att3', '<f8'), ('att4', '<f8'), ('att5', '<f8'), ('att6', '<f8'), ('att7', '<f8'), ('att8', '<f8'), ('att9', '<f8'), ('att10', '<f8'), ('att11', '<f8'), ('att12', '<f8'), ('att13', '<f8'), ('att14', '<f8'), ('att15', '<f8'), ('att16', '<f8'), ('att17', '<f8'), ('att18', '<f8'), ('att19', '<f8'), ('att20', '<f8'), ('att21', '<f8'), ('att22', '<f8'), ('att23', '<f8'), ('att24', '<f8'), ('att25', '<f8'), ('att26', '<f8'), ('att27', '<f8'), ('att28', '<f8'), ('att29', '<f8'), ('att30', '<f8'), ('att31', '<f8'), ('att32', '<f8'), ('att33', '<f8'), ('att34', '<f8'), ('att35', '<f8'), ('att36', '<f8'), ('att37', '<f8'), ('att38', '<f8'), ('att39', '<f8'), ('att40', '<f8'), ('att41', '<f8'), ('att42', '<f8'), ('att43', '<f8'), ('att44', '<f8'), ('att45', '<f8'), ('att46', '<f8'), ('att47', '<f8'), ('att48', '<f8'), ('att49', '<f8'), ('att50', '<f8'), ('att51', '<f8'), ('att52', '<f8'), ('att53', '<f8'), ('att54', '<f8'), ('att55', '<f8'), ('att56', '<f8'), ('att57', '<f8'), ('att58', '<f8'), ('att59', '<f8'), ('att60', '<f8'), ('att61', '<f8'), ('att62', '<f8'), ('att63', '<f8'), ('att64', '<f8'), ('att65', '<f8'), ('att66', '<f8'), ('att67', '<f8'), ('att68', '<f8'), ('att69', '<f8'), ('att70', '<f8'), ('att71', '<f8'), ('att72', '<f8'), ('att73', '<f8'), ('att74', '<f8'), ('att75', '<f8'), ('att76', '<f8'), ('att77', '<f8'), ('att78', '<f8'), ('att79', '<f8'), ('att80', '<f8'), ('att81', '<f8'), ('att82', '<f8'), ('att83', '<f8'), ('att84', '<f8'), ('att85', '<f8'), ('att86', '<f8'), ('att87', '<f8'), ('att88', '<f8'), ('att89', '<f8'), ('att90', '<f8'), ('att91', '<f8'), ('att92', '<f8'), ('att93', '<f8'), ('att94', '<f8'), ('att95', '<f8'), ('att96', '<f8'), ('att97', '<f8'), ('att98', '<f8'), ('att99', '<f8')]) to dtype('float64')."
     ]
    },
    {
     "data": {
      "image/png": "[encoded data removed]",
      "text/plain": [
       "<Figure size 432x288 with 1 Axes>"
      ]
     },
     "metadata": {
      "needs_background": "light"
     },
     "output_type": "display_data"
    }
   ],
   "source": [
    "array = np.array(result_df.iloc[0])\n",
    "plt.plot(array)"
   ]
  },
  {
   "cell_type": "code",
   "execution_count": null,
   "id": "03f46c48",
   "metadata": {},
   "outputs": [],
   "source": []
  }
 ],
 "metadata": {
  "kernelspec": {
   "display_name": "Python 3",
   "language": "python",
   "name": "python3"
  },
  "language_info": {
   "codemirror_mode": {
    "name": "ipython",
    "version": 3
   },
   "file_extension": ".py",
   "mimetype": "text/x-python",
   "name": "python",
   "nbconvert_exporter": "python",
   "pygments_lexer": "ipython3",
   "version": "3.11.4"
  }
 },
 "nbformat": 4,
 "nbformat_minor": 5
}
